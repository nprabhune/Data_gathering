{
 "cells": [
  {
   "cell_type": "code",
   "execution_count": 3,
   "metadata": {
    "collapsed": true
   },
   "outputs": [],
   "source": [
    "import requests\n",
    "from bs4 import BeautifulSoup\n",
    "from urllib.request import urlopen\n",
    "import re\n",
    "import pandas as pd\n",
    "import time"
   ]
  },
  {
   "cell_type": "code",
   "execution_count": 4,
   "metadata": {},
   "outputs": [],
   "source": [
    "response = requests.get(\"https://en.wikipedia.org/wiki/List_of_United_States_cities_by_population\").text\n",
    "soup = BeautifulSoup(response, \"lxml\")\n",
    "#print(soup.prettify())\n",
    "data = soup.find('table', {'class': 'wikitable sortable'})\n",
    "rows = data.find_all('tr')\n"
   ]
  },
  {
   "cell_type": "code",
   "execution_count": 5,
   "metadata": {
    "collapsed": true
   },
   "outputs": [],
   "source": [
    "def getHTMLContent(url):\n",
    "    html = urlopen(url)\n",
    "    soup = BeautifulSoup(html, 'html.parser')\n",
    "    return soup"
   ]
  },
  {
   "cell_type": "code",
   "execution_count": 6,
   "metadata": {
    "collapsed": true
   },
   "outputs": [],
   "source": [
    "def check(url):\n",
    "    city = getHTMLContent(url)\n",
    "    flag = False\n",
    "    table = city.find('table',{'class':'infobox geography vcard'})\n",
    "    if table is None:\n",
    "        flag = True\n",
    "    return flag"
   ]
  },
  {
   "cell_type": "code",
   "execution_count": 7,
   "metadata": {
    "collapsed": true
   },
   "outputs": [],
   "source": [
    "cities = []\n",
    "names = []\n",
    "x = \"\"\n",
    "for r in rows:\n",
    "    cells = r.find_all('td')\n",
    "    if(len(cells)>1):\n",
    "        city_link = cells[1].find('a')\n",
    "        x = \"https://en.wikipedia.org\"+city_link.get('href')\n",
    "        city_name = city_link.get_text().strip()\n",
    "        if(check(x)==False):\n",
    "            cities.append(x)\n",
    "            names.append(city_name)"
   ]
  },
  {
   "cell_type": "code",
   "execution_count": 9,
   "metadata": {
    "collapsed": true
   },
   "outputs": [],
   "source": [
    "def area(url):\n",
    "    link = ''\n",
    "    try:\n",
    "        city = getHTMLContent(url)\n",
    "        table = city.find('table',{'class':'infobox geography vcard'})\n",
    "        la = []\n",
    "        wa = []\n",
    "        read = False\n",
    "        for tr in table.find_all('tr'):\n",
    "            if(tr.get('class') == ['mergedtoprow'] and not read):\n",
    "                link = tr.find('th')\n",
    "                if(link!=None):\n",
    "                    a = link.get_text().strip()\n",
    "                    if(re.match(r'Area', a)):  \n",
    "                        read = True\n",
    "            elif(tr.get('class') == ['mergedrow'] and read==True):\n",
    "                if(tr.find('th').get_text().strip()=='•\\xa0Land'):\n",
    "                    la.append(tr.find('td').get_text().strip('\\n'))\n",
    "                if(tr.find('th').get_text().strip()=='•\\xa0Water'):\n",
    "                    wa.append(tr.find('td').get_text().strip('\\n'))\n",
    "        return la, wa\n",
    "    except Exception as error:\n",
    "        print('Error occured: {}'.format(error))\n",
    "        return []"
   ]
  },
  {
   "cell_type": "code",
   "execution_count": 10,
   "metadata": {
    "collapsed": true
   },
   "outputs": [],
   "source": [
    "def population(url):\n",
    "    link = ''\n",
    "    try:\n",
    "        city = getHTMLContent(url)\n",
    "        table = city.find('table',{'class':'infobox geography vcard'})\n",
    "        rank = []\n",
    "        density = []\n",
    "        estimate = []\n",
    "        read = False\n",
    "        for tr in table.find_all('tr'):\n",
    "            if(tr.get('class') == ['mergedtoprow'] and not read):\n",
    "                link = tr.find('th')\n",
    "                if(link!=None):\n",
    "                    #print(link.get_text().strip())\n",
    "                    s = link.get_text().strip()\n",
    "                    if(re.match(r'Population',s) is not None):  \n",
    "                        #print('pop')\n",
    "                        read = True\n",
    "            elif(tr.get('class') == ['mergedrow'] and read==True):\n",
    "                if(tr.find('th').get_text().strip()=='•\\xa0Rank'):\n",
    "                    rank.append(tr.find('td').get_text().strip('\\n'))\n",
    "                v =tr.find('th').get_text().strip()\n",
    "                if(re.match(r'•\\xa0Estimate',v) is not None):\n",
    "                    estimate.append(tr.find('td').get_text().strip('\\n'))\n",
    "                if(tr.find('th').get_text().strip()=='•\\xa0Density'):\n",
    "                    density.append(tr.find('td').get_text().strip('\\n'))\n",
    "        return rank,density,estimate\n",
    "    except Exception as error:\n",
    "        print('Error occured: {}'.format(error))\n",
    "        return []"
   ]
  },
  {
   "cell_type": "code",
   "execution_count": 11,
   "metadata": {
    "collapsed": true
   },
   "outputs": [],
   "source": [
    "def time_zones(url):\n",
    "    link = ''\n",
    "    try:\n",
    "        city = getHTMLContent(url)\n",
    "        table = city.find('table',{'class':'infobox geography vcard'})\n",
    "        time = []\n",
    "        read = False\n",
    "        for tr in table.find_all('tr'):\n",
    "            if(tr.get('class') == ['mergedtoprow'] and not read):\n",
    "                link = tr.find('th')\n",
    "                if(link!=None):\n",
    "                    #print(link.get_text().strip())\n",
    "                    if(link.get_text().strip()=='Time zone'):  \n",
    "                        if(tr.find('a').get_text().strip()=='Time zone'):\n",
    "                            time.append(tr.find('td').get_text().strip('\\n'))\n",
    "                            read = True\n",
    "        return time\n",
    "    except Exception as error:\n",
    "        print('Error occured: {}'.format(error))\n",
    "        return []"
   ]
  },
  {
   "cell_type": "code",
   "execution_count": 12,
   "metadata": {
    "collapsed": true
   },
   "outputs": [],
   "source": [
    "def state(url):\n",
    "    link = ''\n",
    "    try:\n",
    "        city = getHTMLContent(url)\n",
    "        table = city.find('table',{'class':'infobox geography vcard'})\n",
    "        states = []\n",
    "        read = False\n",
    "        for tr in table.find_all('tr'):\n",
    "            if(tr.get('class') == ['mergedtoprow'] and not read):\n",
    "                link = tr.find('th')\n",
    "                if(link!=None):\n",
    "                    a = link.get_text().strip()\n",
    "                    if(re.match(r'Country', a)):  \n",
    "                        #print('state')\n",
    "                        read = True\n",
    "            elif(tr.get('class') == ['mergedrow'] and read==True):  \n",
    "                if(tr.find('th').get_text().strip()=='State'):\n",
    "                    #print(\"state\")\n",
    "                    #print(tr.find('td').get_text().strip())\n",
    "                    states.append(tr.find('td').get_text().strip())      \n",
    "        return states\n",
    "    except Exception as error:\n",
    "        print('Error occured: {}'.format(error))\n",
    "        return []"
   ]
  },
  {
   "cell_type": "code",
   "execution_count": 13,
   "metadata": {
    "collapsed": true
   },
   "outputs": [],
   "source": [
    "def elevation(url):\n",
    "    link = ''\n",
    "    try:\n",
    "        city = getHTMLContent(url)\n",
    "        table = city.find('table',{'class':'infobox geography vcard'})\n",
    "        ele = []\n",
    "        read = False\n",
    "        for tr in table.find_all('tr'):\n",
    "            if(tr.get('class') == ['mergedtoprow'] and not read):\n",
    "                link = tr.find('th')\n",
    "                if(link!=None):\n",
    "                    b = link.get_text().strip()\n",
    "                    if(re.match(r'Elevation',b) is not None):  \n",
    "                        ele.append(tr.find('td').get_text().strip('\\n'))\n",
    "                        read = True\n",
    "        return ele\n",
    "    except Exception as error:\n",
    "        print('Error occured: {}'.format(error))\n",
    "        return []"
   ]
  },
  {
   "cell_type": "code",
   "execution_count": 14,
   "metadata": {
    "collapsed": true
   },
   "outputs": [],
   "source": [
    "def gov(url):\n",
    "    link = ''\n",
    "    try:\n",
    "        city = getHTMLContent(url)\n",
    "        table = city.find('table',{'class':'infobox geography vcard'})\n",
    "        typee = []\n",
    "        body = []\n",
    "        mayor = []\n",
    "        read = False\n",
    "        for tr in table.find_all('tr'):\n",
    "            if(tr.get('class') == ['mergedtoprow'] and not read):\n",
    "                link = tr.find('th')\n",
    "                if(link!=None):\n",
    "                    #print(link.get_text().strip())\n",
    "                    s = link.get_text().strip()\n",
    "                    if(re.match(r'Government',s) is not None):  \n",
    "                        read = True\n",
    "            elif(tr.get('class') == ['mergedrow'] and read==True):\n",
    "                #print(tr.find('th').get_text().strip())\n",
    "                if(tr.find('th').get_text().strip()=='•\\xa0Type'):\n",
    "                    typee.append(tr.find('td').get_text().strip('\\n'))\n",
    "                if(tr.find('th').get_text().strip()=='•\\xa0Body'):\n",
    "                    body.append(tr.find('td').get_text().strip('\\n'))\n",
    "                if(tr.find('th').get_text().strip()=='•\\xa0Mayor'):  \n",
    "                    mayor.append(tr.find('td').get_text().strip('\\n'))\n",
    "        return typee, body, mayor\n",
    "    except Exception as error:\n",
    "        print('Error occured: {}'.format(error))\n",
    "        return []"
   ]
  },
  {
   "cell_type": "code",
   "execution_count": 15,
   "metadata": {
    "collapsed": true
   },
   "outputs": [],
   "source": [
    "def fips_code(url):\n",
    "    link = ''\n",
    "    try:\n",
    "        city = getHTMLContent(url)\n",
    "        table = city.find('table',{'class':'infobox geography vcard'})\n",
    "        fips = []\n",
    "        read = False\n",
    "        for tr in table.find_all('tr'):\n",
    "            if(tr.get('class') == ['mergedtoprow'] and not read):\n",
    "                link = tr.find('th')\n",
    "                if(link!=None):\n",
    "                    if(link.get_text().strip()=='FIPS code'):  \n",
    "                        fips.append(tr.find('td').get_text().strip('\\n'))\n",
    "                        read = True\n",
    "        return fips\n",
    "    except Exception as error:\n",
    "        print('Error occured: {}'.format(error))\n",
    "        return []"
   ]
  },
  {
   "cell_type": "code",
   "execution_count": 16,
   "metadata": {},
   "outputs": [],
   "source": [
    "def gather(c):\n",
    "    temp = []\n",
    "    la = []\n",
    "    wa = []\n",
    "    r = []\n",
    "    d = []\n",
    "    e = []\n",
    "    t = []\n",
    "    s = []\n",
    "    el = []\n",
    "    ty = []\n",
    "    bo = []\n",
    "    ma = []\n",
    "    fc = []\n",
    "    la, wa = area(c)\n",
    "    if la == []:\n",
    "        temp.append(\"\")\n",
    "    else:\n",
    "        temp.append(la[0])\n",
    "        \n",
    "    if wa == []:\n",
    "        temp.append(\"\")\n",
    "    else:\n",
    "        temp.append(wa[0])\n",
    "    r,d,e = population(c)\n",
    "    if r == []:\n",
    "        temp.append(\"\")\n",
    "    else:\n",
    "        temp.append(r[0])\n",
    "    if d == []:\n",
    "        temp.append(\"\")\n",
    "    else:\n",
    "        temp.append(d[0])\n",
    "    if e == []:\n",
    "        temp.append(\"\")\n",
    "    else:\n",
    "        temp.append(e[0])\n",
    "    t = time_zones(c)\n",
    "    if t == []:\n",
    "        temp.append(\"\")\n",
    "    else:\n",
    "        temp.append(t[0])\n",
    "    s = state(c)\n",
    "    if s == []:\n",
    "        temp.append(\"\")\n",
    "    else:\n",
    "        temp.append(s[0])\n",
    "    el = elevation(c)\n",
    "    if el == []:\n",
    "        temp.append(\"\")\n",
    "    else:\n",
    "        temp.append(el[0])\n",
    "    ty, bo, ma = gov(c)\n",
    "    if ty == []:\n",
    "        temp.append(\"\")\n",
    "    else:\n",
    "        temp.append(ty[0])\n",
    "    if bo == []:\n",
    "        temp.append(\"\")\n",
    "    else:\n",
    "        temp.append(bo[0])\n",
    "    if ma == []:\n",
    "        temp.append(\"\")\n",
    "    else:\n",
    "        temp.append(ma[0])\n",
    "    fc = fips_code(c)\n",
    "    if fc == []:\n",
    "        temp.append(\"\")\n",
    "    else:\n",
    "        temp.append(fc[0])\n",
    "    return temp\n",
    "#print(gather(cities[0]))"
   ]
  },
  {
   "cell_type": "code",
   "execution_count": 18,
   "metadata": {},
   "outputs": [
    {
     "name": "stdout",
     "output_type": "stream",
     "text": [
      "Total execution time is:  1098.7950241565704\n"
     ]
    }
   ],
   "source": [
    "data_content = []\n",
    "t1 = time.time()\n",
    "\n",
    "for i in range (0, len(cities)):\n",
    "    temp = []\n",
    "    temp = gather(cities[i])\n",
    "    temp.insert(0, names[i])\n",
    "    #print(temp)\n",
    "    data_content.append(temp)\n",
    "    \n",
    "t2 = time.time()\n",
    "print(\"Total execution time is: \", t2-t1)"
   ]
  },
  {
   "cell_type": "code",
   "execution_count": 19,
   "metadata": {},
   "outputs": [],
   "source": [
    "dataset = pd.DataFrame(data_content)\n",
    "headers = [\"City Name\",\"Land area\", \"Water Area\", \"Population Rank\", \"Population Density\", \"Population Estimate\", \"Time Zone\", \"State\", \"Elevation\",\"Gov_type\",\"Body\",\"Mayor\",\"Fips_code\"]\n",
    "\n",
    "dataset.columns = headers\n"
   ]
  },
  {
   "cell_type": "code",
   "execution_count": 22,
   "metadata": {
    "collapsed": true
   },
   "outputs": [],
   "source": [
    "for column in dataset.columns:\n",
    "    dataset[column] = dataset[column].str.replace(r\"\\(.*\\)\", \"\")\n",
    "    dataset[column] = dataset[column].str.replace(r\"\\[.*\\]\", \"\")"
   ]
  },
  {
   "cell_type": "code",
   "execution_count": 23,
   "metadata": {},
   "outputs": [],
   "source": [
    "dataset['Population Density'] = dataset['Population Density'].str.replace(',', '')\n",
    "dataset['Population Estimate'] = dataset['Population Estimate'].str.replace(',', '')"
   ]
  },
  {
   "cell_type": "code",
   "execution_count": 24,
   "metadata": {
    "collapsed": true
   },
   "outputs": [],
   "source": [
    "dataset.rename(columns = {\"Population Density\":\"Population Density(sq mi)\", \"Water Area\": \"Water Area(sq mi)\"}, inplace = True)"
   ]
  },
  {
   "cell_type": "code",
   "execution_count": 25,
   "metadata": {},
   "outputs": [],
   "source": [
    "dataset['Population Density(sq mi)'] = dataset['Population Density(sq mi)'].str.replace(r'[^0-9.]+', '')"
   ]
  },
  {
   "cell_type": "code",
   "execution_count": 26,
   "metadata": {},
   "outputs": [],
   "source": [
    "for x in range(len(dataset['Water Area(sq mi)'])):\n",
    "    area = dataset.iloc[x]['Water Area(sq mi)']\n",
    "    area = area.split()\n",
    "    if area != []:\n",
    "        dataset.iloc[x]['Water Area(sq mi)'] = area[0]\n",
    "    else:\n",
    "        dataset.iloc[x]['Water Area(sq mi)'] = \"\""
   ]
  },
  {
   "cell_type": "code",
   "execution_count": 27,
   "metadata": {
    "collapsed": true
   },
   "outputs": [],
   "source": [
    "dataset.to_csv(\"Final_dataset.csv\", index = False)"
   ]
  },
  {
   "cell_type": "code",
   "execution_count": null,
   "metadata": {
    "collapsed": true
   },
   "outputs": [],
   "source": []
  }
 ],
 "metadata": {
  "anaconda-cloud": {},
  "kernelspec": {
   "display_name": "Python 3",
   "language": "python",
   "name": "python3"
  },
  "language_info": {
   "codemirror_mode": {
    "name": "ipython",
    "version": 3
   },
   "file_extension": ".py",
   "mimetype": "text/x-python",
   "name": "python",
   "nbconvert_exporter": "python",
   "pygments_lexer": "ipython3",
   "version": "3.6.8"
  }
 },
 "nbformat": 4,
 "nbformat_minor": 2
}
